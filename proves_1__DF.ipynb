{
  "nbformat": 4,
  "nbformat_minor": 0,
  "metadata": {
    "colab": {
      "provenance": [],
      "authorship_tag": "ABX9TyNy+OSyZZRI3Z8G/InQjk8P",
      "include_colab_link": true
    },
    "kernelspec": {
      "name": "python3",
      "display_name": "Python 3"
    },
    "language_info": {
      "name": "python"
    }
  },
  "cells": [
    {
      "cell_type": "markdown",
      "metadata": {
        "id": "view-in-github",
        "colab_type": "text"
      },
      "source": [
        "<a href=\"https://colab.research.google.com/github/didacferreres/Programaci-n/blob/main/proves_1__DF.ipynb\" target=\"_parent\"><img src=\"https://colab.research.google.com/assets/colab-badge.svg\" alt=\"Open In Colab\"/></a>"
      ]
    },
    {
      "cell_type": "markdown",
      "source": [
        "1. Un fabricant ven 48 cuines a 93 € una. Cobra 37 euros pel transport. Quant haurà cobrat en total?"
      ],
      "metadata": {
        "id": "h1aRr1hQkp7K"
      }
    },
    {
      "cell_type": "code",
      "execution_count": null,
      "metadata": {
        "colab": {
          "base_uri": "https://localhost:8080/"
        },
        "id": "N7Yl4t5MjP1O",
        "outputId": "2e45ecbe-5e41-433f-d331-d375b2844368"
      },
      "outputs": [
        {
          "output_type": "stream",
          "name": "stdout",
          "text": [
            "6240\n"
          ]
        }
      ],
      "source": [
        "cuines=48\n",
        "diners_cuina=93\n",
        "diners_transport=37\n",
        "total1=diners_transport+diners_cuina\n",
        "resultat_final=total1*cuines\n",
        "print(resultat_final)\n"
      ]
    },
    {
      "cell_type": "markdown",
      "source": [
        "2. En una guardiola hi ha 120 euros; en una altra hi ha 215 i en una tercera 163. Si repartim els\n",
        "euros entre 6 persones, quants en toquen a cada una?"
      ],
      "metadata": {
        "id": "53j0hr8zpzcK"
      }
    },
    {
      "cell_type": "code",
      "source": [
        "guardiola1=120\n",
        "guardiola2=215\n",
        "guardiola3=163\n",
        "diners_guardioles=guardiola1+guardiola2+guardiola3\n",
        "total=diners_guardioles/6\n",
        "print(total)"
      ],
      "metadata": {
        "colab": {
          "base_uri": "https://localhost:8080/"
        },
        "id": "5JDEBidxlfXq",
        "outputId": "42dbe09b-489c-4f09-8ac8-175571c26012"
      },
      "execution_count": null,
      "outputs": [
        {
          "output_type": "stream",
          "name": "stdout",
          "text": [
            "83.0\n"
          ]
        }
      ]
    },
    {
      "cell_type": "markdown",
      "source": [
        "3. Una castanyera tenia 250 castanyes torrades. Si en ven 17 dotzenes i a més treu 9 castanyes\n",
        "cremades, quantes li'n queden per vendre?"
      ],
      "metadata": {
        "id": "vNwFVBTMpSRX"
      }
    },
    {
      "cell_type": "code",
      "source": [
        "total_castanyes=250\n",
        "dotzenes_venudes=17\n",
        "castanyes_cremades=9\n",
        "total_castanyes_venudes=dotzenes_venudes*12\n",
        "castanyes_finals=total_castanyes_venudes+9\n",
        "resultat=total_castanyes-castanyes_finals\n",
        "print(resultat)"
      ],
      "metadata": {
        "colab": {
          "base_uri": "https://localhost:8080/"
        },
        "id": "P3kVXL1Ep-3R",
        "outputId": "f71cb904-ee2d-41bd-cc22-8b9caa9e02e1"
      },
      "execution_count": null,
      "outputs": [
        {
          "output_type": "stream",
          "name": "stdout",
          "text": [
            "37\n"
          ]
        }
      ]
    },
    {
      "cell_type": "markdown",
      "source": [
        "4. Un ramader va guanyar en un any 2.850 euros ; va guardar-se'n 700, i amb la resta va comprar 5\n",
        "vaques. Quants euros val cada vaca?"
      ],
      "metadata": {
        "id": "eEM46yAtrXk7"
      }
    },
    {
      "cell_type": "code",
      "source": [
        "total_euros=2850\n",
        "euros_guardats=700\n",
        "vaques=5\n",
        "euros=total_euros-euros_guardats\n",
        "resultat=euros/5\n",
        "print(\"Cada vaca val:\",resultat, \"euros\")"
      ],
      "metadata": {
        "colab": {
          "base_uri": "https://localhost:8080/"
        },
        "id": "M9-gWWhzrfok",
        "outputId": "e29b03c3-d4c3-450b-8102-813b345cb8b3"
      },
      "execution_count": null,
      "outputs": [
        {
          "output_type": "stream",
          "name": "stdout",
          "text": [
            "Cada vaca val: 430.0 euros\n"
          ]
        }
      ]
    },
    {
      "cell_type": "markdown",
      "source": [
        "5. A la llibreta d'estalvis tinc 275 euros. Hi poso dos bitllets de 10 euros i tres monedes de 2 euros.\n",
        "Quants euros hi tinc ara?"
      ],
      "metadata": {
        "id": "Ej0AG3QVstSF"
      }
    },
    {
      "cell_type": "code",
      "source": [
        "diners_estalvis=275\n",
        "euros_bitllets=10\n",
        "euros_monedes=2\n",
        "diners=diners_estalvis+euros_bitllets*2+euros_monedes*3\n",
        "print(\"Ara tinc:\",diners, \"euros\")"
      ],
      "metadata": {
        "colab": {
          "base_uri": "https://localhost:8080/"
        },
        "id": "Y2g0quvysxgC",
        "outputId": "51817f37-9c51-4dac-f282-e2b3bcf31b79"
      },
      "execution_count": null,
      "outputs": [
        {
          "output_type": "stream",
          "name": "stdout",
          "text": [
            "Ara tinc: 301 euros\n"
          ]
        }
      ]
    },
    {
      "cell_type": "markdown",
      "source": [
        "6. A una família li falten 26.625 euros per poder comprar una casa que val 98.370 euros. Quants\n",
        "euros té?"
      ],
      "metadata": {
        "id": "q5juMae3uABo"
      }
    },
    {
      "cell_type": "code",
      "source": [
        "diners_falten=26625\n",
        "casa=98370\n",
        "resultat=casa-diners_falten\n",
        "print(\"Té:\",resultat,\"euros\")"
      ],
      "metadata": {
        "colab": {
          "base_uri": "https://localhost:8080/"
        },
        "id": "MezKUXkkuEau",
        "outputId": "7a074469-40fa-410e-dd77-dfa0b8e13aea"
      },
      "execution_count": null,
      "outputs": [
        {
          "output_type": "stream",
          "name": "stdout",
          "text": [
            "Té: 71745 euros\n"
          ]
        }
      ]
    },
    {
      "cell_type": "markdown",
      "source": [
        "7. Si dues revistes pesen 432 grams i el pes d'aquestes dues revistes és el mateix que cinc\n",
        "rotuladors. Quant pesa un rotulador?"
      ],
      "metadata": {
        "id": "rR2-9cgEuoR8"
      }
    },
    {
      "cell_type": "code",
      "source": [
        "pes_revistes=432\n"
      ],
      "metadata": {
        "id": "69J2ztIXuzSn"
      },
      "execution_count": null,
      "outputs": []
    },
    {
      "cell_type": "markdown",
      "source": [],
      "metadata": {
        "id": "ddfleOinUtYI"
      }
    },
    {
      "cell_type": "code",
      "source": [
        "llibres=float(input(\"Quants llibres compres?\"))\n",
        "punts_de_llibre=float(input(\"Quants punts de llibre compres?\"))\n",
        "portallibres=float((input(\"Quants portallibres compres?\")))\n",
        "preu=((llibres*5)+(punts_de_llibre*1.5)+(portallibres*10))\n",
        "if(preu%2==0):\n",
        "  print(\"Cal que el valor sigui float\")\n",
        "else:\n",
        "  print(\"El preu final serà\",preu)\n"
      ],
      "metadata": {
        "colab": {
          "base_uri": "https://localhost:8080/"
        },
        "id": "bXLZeeWul6c_",
        "outputId": "ba00020c-d848-4d1d-fc03-a2beb67325a2"
      },
      "execution_count": null,
      "outputs": [
        {
          "output_type": "stream",
          "name": "stdout",
          "text": [
            "Quants llibres compres?2.1\n",
            "Quants punts de llibre compres?2\n",
            "Quants portallibres compres?3\n",
            "El preu final serà 43.5\n"
          ]
        }
      ]
    },
    {
      "cell_type": "markdown",
      "source": [
        "Calcula la superficie d'un quadrat coneixent un dels seus costats"
      ],
      "metadata": {
        "id": "Afg_6casph2o"
      }
    },
    {
      "cell_type": "code",
      "source": [
        "costat=int(input(\"Quant mesura un costat\"))\n",
        "superficie=costat*costat\n",
        "print(\"La superficie és\",superficie,\"cm^2\")"
      ],
      "metadata": {
        "colab": {
          "base_uri": "https://localhost:8080/"
        },
        "id": "PfvmgNvTpvwX",
        "outputId": "f2bab05b-2fb7-4ef8-9a62-db5d5180465a"
      },
      "execution_count": 5,
      "outputs": [
        {
          "output_type": "stream",
          "name": "stdout",
          "text": [
            "Quant mesura un costat4\n",
            "La superficie és 16 cm^2\n"
          ]
        }
      ]
    },
    {
      "cell_type": "markdown",
      "source": [
        "Realitza el perimetre del quadrat"
      ],
      "metadata": {
        "id": "cjPZ63azpwOO"
      }
    },
    {
      "cell_type": "code",
      "source": [
        "costat=int(input(\"Quant mesura un costat?\"))\n",
        "perimetre=costat+costat+costat+costat\n",
        "print(\"El perimetre és\",perimetre,\"cm\")"
      ],
      "metadata": {
        "colab": {
          "base_uri": "https://localhost:8080/"
        },
        "id": "lbXHtdeIp4DI",
        "outputId": "008ee94c-a654-4554-c5d7-c18761263c3c"
      },
      "execution_count": 8,
      "outputs": [
        {
          "output_type": "stream",
          "name": "stdout",
          "text": [
            "Quant mesura un costat?2\n",
            "El perimetre és 8 cm\n"
          ]
        }
      ]
    },
    {
      "cell_type": "markdown",
      "source": [
        "Inventa 4 variables, i fes la suma de las variables i per una altra banda el producte dels 2 primers i els 2 segons i fes la suma"
      ],
      "metadata": {
        "id": "v1RnIm0dp4eD"
      }
    },
    {
      "cell_type": "code",
      "source": [
        "cacahuete=2\n",
        "mesa=4\n",
        "silla=6\n",
        "copa=8\n",
        "suma=cacahuete+mesa+silla+copa\n",
        "print(\"La suma de les variables és\",suma)\n",
        "total1=cacahuete*mesa\n",
        "total2=silla*copa\n",
        "resultat=total1+total2\n",
        "print(\"El resultat és\",resultat)"
      ],
      "metadata": {
        "colab": {
          "base_uri": "https://localhost:8080/"
        },
        "id": "56JAk709rAEy",
        "outputId": "07cb178c-ddc8-4012-8bec-ced011ea00b8"
      },
      "execution_count": null,
      "outputs": [
        {
          "output_type": "stream",
          "name": "stdout",
          "text": [
            "La suma de les variables és 20\n",
            "El resultat és 56\n"
          ]
        }
      ]
    },
    {
      "cell_type": "markdown",
      "source": [
        "Fes la mitjana ponderada de 4 variables"
      ],
      "metadata": {
        "id": "FP__rT-6Rfc2"
      }
    },
    {
      "cell_type": "code",
      "source": [
        "a=int(input(\"quant val a?\"))\n",
        "b=int(input(\"quant val b?\"))\n",
        "c=int(input(\"quant val c?\"))\n",
        "d=int(input(\"quant val d?\"))\n",
        "mitjana=int((a+b+c+d)/4)\n",
        "print(\"La mitjana és\",mitjana)"
      ],
      "metadata": {
        "colab": {
          "base_uri": "https://localhost:8080/"
        },
        "id": "m5Aduy-xR_3C",
        "outputId": "b8f53395-ab2f-4e4d-8b71-21fc979529a2"
      },
      "execution_count": 11,
      "outputs": [
        {
          "output_type": "stream",
          "name": "stdout",
          "text": [
            "quant val a?4\n",
            "quant val b?1\n",
            "quant val c?6\n",
            "quant val d?4\n",
            "La mitjana és 3\n"
          ]
        }
      ]
    },
    {
      "cell_type": "markdown",
      "source": [
        "Fes una variable que pregunti el sou d'una persona i si el seu sou és superior als 2000 euros cal que es mostri un missatge a la pantalla que digui que ha de pagar un 15% de IRP"
      ],
      "metadata": {
        "id": "R67fXO2gTGY-"
      }
    },
    {
      "cell_type": "code",
      "source": [
        "sou=int(input(\"quant cobres?\"))\n",
        "if (sou>2000):\n",
        "  print(\"Has de pagar un 15% de IRPF\")\n",
        "\n"
      ],
      "metadata": {
        "colab": {
          "base_uri": "https://localhost:8080/"
        },
        "id": "wXCJ6IQfTgZp",
        "outputId": "4c634cba-9572-441b-8c20-68296ea69964"
      },
      "execution_count": 18,
      "outputs": [
        {
          "output_type": "stream",
          "name": "stdout",
          "text": [
            "quant cobres?2001\n",
            "Has de pagar un 15% de IRPF\n"
          ]
        }
      ]
    },
    {
      "cell_type": "markdown",
      "source": [
        "Posa 2 variables amb valors diferents i cal que surti a la pantalla el que és superior"
      ],
      "metadata": {
        "id": "DbJiL5NKUknU"
      }
    },
    {
      "cell_type": "code",
      "source": [
        "a=int(input(\"valor de a?\"))\n",
        "b=int(input(\"valor de b?\"))\n",
        "if (a>b):\n",
        "  print(\"La variable més gran és a\")"
      ],
      "metadata": {
        "colab": {
          "base_uri": "https://localhost:8080/"
        },
        "id": "v_P6LXtoUzF3",
        "outputId": "28f51c92-bc41-4e4f-9c14-3d6d57f17d20"
      },
      "execution_count": 25,
      "outputs": [
        {
          "output_type": "stream",
          "name": "stdout",
          "text": [
            "valor de a?5\n",
            "valor de b?2\n",
            "La variable més gran és a\n"
          ]
        }
      ]
    },
    {
      "cell_type": "markdown",
      "source": [
        "Imagina que teniu una nòmina de 2950€ cal que pagui un 20% a l'estat , també cal que pagui les factures de gas que son 70€ i aigua 50€ i despres ha de pagar el pis 1000€. Quants diners li sobren? Si el resultat es inferior a 1000€ cal que printis compte"
      ],
      "metadata": {
        "id": "rLEdOZcAUzcq"
      }
    },
    {
      "cell_type": "code",
      "source": [
        "diners=2950\n",
        "diners1=diners-diners*20/100\n",
        "diners2=diners1-70\n",
        "diners3=diners2-50\n",
        "diners4=diners3-1000\n",
        "if (diners4<1000):\n",
        "  print(\"Queden\",diners4,\"diners compte\")\n",
        "else:\n",
        "  print(\"Queden\",diners4,\"€,tens sort.\")"
      ],
      "metadata": {
        "colab": {
          "base_uri": "https://localhost:8080/"
        },
        "id": "4RnoqvasVyMw",
        "outputId": "e01181f3-b7e3-4fda-cda0-6a6673eb57ea"
      },
      "execution_count": 22,
      "outputs": [
        {
          "output_type": "stream",
          "name": "stdout",
          "text": [
            "Queden 1240.0 €,tens sort.\n"
          ]
        }
      ]
    }
  ]
}